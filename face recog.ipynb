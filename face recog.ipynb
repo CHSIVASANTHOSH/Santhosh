{
  "nbformat": 4,
  "nbformat_minor": 0,
  "metadata": {
    "colab": {
      "name": "Untitled0.ipynb",
      "provenance": [],
      "collapsed_sections": [],
      "authorship_tag": "ABX9TyPpScvtAvZZsFuqJ0QX0WX9",
      "include_colab_link": true
    },
    "kernelspec": {
      "name": "python3",
      "display_name": "Python 3"
    }
  },
  "cells": [
    {
      "cell_type": "markdown",
      "metadata": {
        "id": "view-in-github",
        "colab_type": "text"
      },
      "source": [
        "<a href=\"https://colab.research.google.com/github/CHSIVASANTHOSH/Santhosh/blob/master/face%20recog.ipynb\" target=\"_parent\"><img src=\"https://colab.research.google.com/assets/colab-badge.svg\" alt=\"Open In Colab\"/></a>"
      ]
    },
    {
      "cell_type": "code",
      "metadata": {
        "id": "OS2HTJlhLBpk",
        "colab_type": "code",
        "colab": {}
      },
      "source": [
        "\n",
        "#Program to Detect the Face and Recognise the Person based on the data from face-trainner.yml\n",
        "\n",
        "import cv2 #For Image processing \n",
        "import numpy as np #For converting Images to Numerical array \n",
        "import os #To handle directories \n",
        "from PIL import Image #Pillow lib for handling images \n",
        "\n",
        "labels = [\"Aswinth\", \"Elon Musk\"] \n",
        "\n",
        "face_cascade = cv2.CascadeClassifier('haarcascade_frontalface_default.xml')\n",
        "recognizer = cv2.createLBPHFaceRecognizer()\n",
        "recognizer.load(\"face-trainner.yml\")\n",
        "\n",
        "cap = cv2.VideoCapture(0) #Get vidoe feed from the Camera\n",
        "\n",
        "while(True):\n",
        "\n",
        "    ret, img = cap.read() # Break video into frames \n",
        "    gray  = cv2.cvtColor(img, cv2.COLOR_BGR2GRAY) #convert Video frame to Greyscale\n",
        "    faces = face_cascade.detectMultiScale(gray, scaleFactor=1.5, minNeighbors=5) #Recog. faces\n",
        "    for (x, y, w, h) in faces:\n",
        "    \troi_gray = gray[y:y+h, x:x+w] #Convert Face to greyscale \n",
        "\n",
        "    \tid_, conf = recognizer.predict(roi_gray) #recognize the Face\n",
        "    \n",
        "    \tif conf>=80:\n",
        "    \t\tfont = cv2.FONT_HERSHEY_SIMPLEX #Font style for the name \n",
        "    \t\tname = labels[id_] #Get the name from the List using ID number \n",
        "    \t\tcv2.putText(img, name, (x,y), font, 1, (0,0,255), 2)\n",
        "    \t\n",
        "    \tcv2.rectangle(img,(x,y),(x+w,y+h),(0,255,0),2)\n",
        "\n",
        "    cv2.imshow('Preview',img) #Display the Video\n",
        "    if cv2.waitKey(20) & 0xFF == ord('q'):\n",
        "    \tbreak\n",
        "\n",
        "# When everything done, release the capture\n",
        "cap.release()\n",
        "cv2.destroyAllWindows()\n"
      ],
      "execution_count": 0,
      "outputs": []
    }
  ]
}