{
  "nbformat": 4,
  "nbformat_minor": 0,
  "metadata": {
    "colab": {
      "name": "camera.ipynb",
      "provenance": [],
      "collapsed_sections": [],
      "authorship_tag": "ABX9TyOBf2kxBBR2Gum5SUByIoLr",
      "include_colab_link": true
    },
    "kernelspec": {
      "name": "python3",
      "display_name": "Python 3"
    }
  },
  "cells": [
    {
      "cell_type": "markdown",
      "metadata": {
        "id": "view-in-github",
        "colab_type": "text"
      },
      "source": [
        "<a href=\"https://colab.research.google.com/github/CHSIVASANTHOSH/Santhosh/blob/master/camera.ipynb\" target=\"_parent\"><img src=\"https://colab.research.google.com/assets/colab-badge.svg\" alt=\"Open In Colab\"/></a>"
      ]
    },
    {
      "cell_type": "code",
      "metadata": {
        "id": "3x1p4Y2qN7cf",
        "colab_type": "code",
        "colab": {}
      },
      "source": [
        "import cv2\n",
        "import time\n",
        "video=cv2.VideoCapture(0)\n",
        "while True:\n",
        "    ret,frame=cv2.read()\n",
        "    imshow(\"video\",frame)\n",
        "    cv2.waitKey(0)\n",
        "cv2.destroyAllWindows()\n",
        "vs.stop()\n"
      ],
      "execution_count": 0,
      "outputs": []
    }
  ]
}