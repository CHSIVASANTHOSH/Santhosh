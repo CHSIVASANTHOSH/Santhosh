{
  "nbformat": 4,
  "nbformat_minor": 0,
  "metadata": {
    "colab": {
      "name": "accurate.ipynb",
      "provenance": [],
      "collapsed_sections": [],
      "authorship_tag": "ABX9TyP4g9KBJO7xBT0dQ1hZXSRv",
      "include_colab_link": true
    },
    "kernelspec": {
      "name": "python3",
      "display_name": "Python 3"
    }
  },
  "cells": [
    {
      "cell_type": "markdown",
      "metadata": {
        "id": "view-in-github",
        "colab_type": "text"
      },
      "source": [
        "<a href=\"https://colab.research.google.com/github/CHSIVASANTHOSH/Santhosh/blob/master/accurate.ipynb\" target=\"_parent\"><img src=\"https://colab.research.google.com/assets/colab-badge.svg\" alt=\"Open In Colab\"/></a>"
      ]
    },
    {
      "cell_type": "code",
      "metadata": {
        "id": "jxzcpVC8MxQh",
        "colab_type": "code",
        "colab": {
          "base_uri": "https://localhost:8080/",
          "height": 231
        },
        "outputId": "01869ad1-80be-400b-c2e4-6e44e4fcf9e4"
      },
      "source": [
        "\n",
        "import numpy as np\n",
        "import cv2\n",
        "from datetime import datetime\n",
        "video_capture=cv2.videoCapture(0)\n",
        "known_face_encodings=[]\n",
        "known_face_names=[]\n",
        "imganvesh=face_recognition.load_image_file(\"E:\\\\PHOTOS\\\\My pics\\\\18L31A04K0.jpg\")\n",
        "imganveshEncoding=face_recognition.face_encodings(imgsanthosh)[0]\n",
        "known_face_encodings=[imgsanthoshEncoding]\n",
        "known_face_names=['santhosh']\n",
        "face_locations=[]\n",
        "face_encodings=[]\n",
        "face_names=[]\n",
        "process_this_frame=True\n",
        "i=0\n",
        "while True:\n",
        "    ret,frame=video_capture.read()\n",
        "    small_frame=cv2.resize(frame,(0,0),fx=0.5,fy=0.5)\n",
        "    rgb_small_frame-small_frame[:,:,::-1]\n",
        "    if process_this_frame:\n",
        "        face_locations=face_recognition.face_locations(rgb_small_frame)\n",
        "        face_encodings=face_recognition.face_encodings(rgb_small_frame,frame_locations)\n",
        "        name_list=[]\n",
        "        face_names=[]\n",
        "        for face_encoding in face_encodings:\n",
        "            matches=face_recognition.compare_faces(known_face_encodings,face_encoding,tolerance=0.5)\n",
        "            face_distances=face_recognition.face_distance(known_face_encodings,face_encoding)\n",
        "            best_match_index=np.argmin(face_distances)\n",
        "            if matches(best_match_index):\n",
        "                name=known_face_names[best_match_index]\n",
        "                face_names.append(name)\n",
        "\n",
        "        i+=1\n",
        "        if i==5:\n",
        "            curr_name=name\n",
        "            print(curr_name)\n",
        "        if len(face_names)==0:\n",
        "            i=0\n",
        "        process_this_frame=not process_this_frame\n",
        "        for(top,right,bottom,left),name in zip(face_locations,face_names):\n",
        "            top*=2\n",
        "            right*=2\n",
        "            bottom*=2\n",
        "            left*=2\n",
        "            cv2.rectangle(frame,(left,top),(right,bottom),(0,0,255),2)\n",
        "            cv2.rectangle(frame,(left,bottom-35),(right,bottom),(0,0,255),cv2.FILLED)\n",
        "            font=cv2.FONT_HERSHEY_DUPLEX\n",
        "            cv2.putText(frame,name,(left+6,bottom-6),font,1.0,(255,255,255),1)\n",
        "        cv2.imshow(\"video\",frame)\n",
        "        if cv2.waitKey(1) & 0xFF==ord('q'):\n",
        "            break\n",
        "video_capture.release()\n",
        "cv2.destroyAllWindows()\n",
        "\n"
      ],
      "execution_count": 2,
      "outputs": [
        {
          "output_type": "error",
          "ename": "AttributeError",
          "evalue": "ignored",
          "traceback": [
            "\u001b[0;31m---------------------------------------------------------------------------\u001b[0m",
            "\u001b[0;31mAttributeError\u001b[0m                            Traceback (most recent call last)",
            "\u001b[0;32m<ipython-input-2-11526994cd7e>\u001b[0m in \u001b[0;36m<module>\u001b[0;34m()\u001b[0m\n\u001b[1;32m      3\u001b[0m \u001b[0;32mimport\u001b[0m \u001b[0mcv2\u001b[0m\u001b[0;34m\u001b[0m\u001b[0;34m\u001b[0m\u001b[0m\n\u001b[1;32m      4\u001b[0m \u001b[0;32mfrom\u001b[0m \u001b[0mdatetime\u001b[0m \u001b[0;32mimport\u001b[0m \u001b[0mdatetime\u001b[0m\u001b[0;34m\u001b[0m\u001b[0;34m\u001b[0m\u001b[0m\n\u001b[0;32m----> 5\u001b[0;31m \u001b[0mvideo_capture\u001b[0m\u001b[0;34m=\u001b[0m\u001b[0mcv2\u001b[0m\u001b[0;34m.\u001b[0m\u001b[0mvideoCapture\u001b[0m\u001b[0;34m(\u001b[0m\u001b[0;36m0\u001b[0m\u001b[0;34m)\u001b[0m\u001b[0;34m\u001b[0m\u001b[0;34m\u001b[0m\u001b[0m\n\u001b[0m\u001b[1;32m      6\u001b[0m \u001b[0mknown_face_encodings\u001b[0m\u001b[0;34m=\u001b[0m\u001b[0;34m[\u001b[0m\u001b[0;34m]\u001b[0m\u001b[0;34m\u001b[0m\u001b[0;34m\u001b[0m\u001b[0m\n\u001b[1;32m      7\u001b[0m \u001b[0mknown_face_names\u001b[0m\u001b[0;34m=\u001b[0m\u001b[0;34m[\u001b[0m\u001b[0;34m]\u001b[0m\u001b[0;34m\u001b[0m\u001b[0;34m\u001b[0m\u001b[0m\n",
            "\u001b[0;31mAttributeError\u001b[0m: module 'cv2.cv2' has no attribute 'videoCapture'"
          ]
        }
      ]
    },
    {
      "cell_type": "code",
      "metadata": {
        "id": "U1JHnKJgM4ob",
        "colab_type": "code",
        "colab": {}
      },
      "source": [
        "from google.colab.patches import cv2_imshow"
      ],
      "execution_count": 0,
      "outputs": []
    },
    {
      "cell_type": "code",
      "metadata": {
        "id": "NXh_SmrDM4na",
        "colab_type": "code",
        "colab": {}
      },
      "source": [
        "!curl -o logo.png https://colab.research.google.com/img/colab_favicon_256px.png\n",
        "import cv2\n",
        "img = cv2.imread('logo.png', cv2.IMREAD_UNCHANGED)\n",
        "cv2_imshow(img)"
      ],
      "execution_count": 0,
      "outputs": []
    }
  ]
}